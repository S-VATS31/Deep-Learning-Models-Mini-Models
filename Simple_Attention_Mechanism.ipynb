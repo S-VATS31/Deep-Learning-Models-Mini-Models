{
  "nbformat": 4,
  "nbformat_minor": 0,
  "metadata": {
    "colab": {
      "provenance": [],
      "authorship_tag": "ABX9TyPyiBLikgfZuHrpRhenuGIi",
      "include_colab_link": true
    },
    "kernelspec": {
      "name": "python3",
      "display_name": "Python 3"
    },
    "language_info": {
      "name": "python"
    }
  },
  "cells": [
    {
      "cell_type": "markdown",
      "metadata": {
        "id": "view-in-github",
        "colab_type": "text"
      },
      "source": [
        "<a href=\"https://colab.research.google.com/github/S-VATS31/Deep_Learning_Models/blob/main/Simple_Attention_Mechanism.ipynb\" target=\"_parent\"><img src=\"https://colab.research.google.com/assets/colab-badge.svg\" alt=\"Open In Colab\"/></a>"
      ]
    },
    {
      "cell_type": "code",
      "execution_count": 10,
      "metadata": {
        "id": "71Bv9ZbrFR9y"
      },
      "outputs": [],
      "source": [
        "import torch\n",
        "import torch.nn as nn\n",
        "import torch.nn.functional as F"
      ]
    },
    {
      "cell_type": "code",
      "source": [
        "class AttentionMechanism(torch.nn.Module):\n",
        "    def __init__(self, query_weight_matrix, key_weight_matrix, value_weight_matrix, d_model, d_keys):\n",
        "        super(AttentionMechanism, self).__init__()\n",
        "        self.d_model = d_model # Hidden Size\n",
        "        self.d_keys = d_keys # Embedding Size\n",
        "\n",
        "        # Trainable Parameters\n",
        "        self.query_weight_matrix = torch.nn.Parameter(torch.randn(d_model, d_keys)) * (1.00 /d_keys)\n",
        "        self.key_weight_matrix = torch.nn.Parameter(torch.randn(d_model, d_keys)) * (1.00 /d_keys)\n",
        "        self.value_weight_matrix = torch.nn.Parameter(torch.randn(d_model, d_keys)) * (1.00 /d_keys)\n",
        "\n",
        "    def forward(self, queries, keys, values):\n",
        "        # Linear Projections\n",
        "        Q = torch.matmul(queries, self.query_weight_matrix) # Shape: (batch_size, seq_len, d_model)\n",
        "        K = torch.matmul(keys, self.key_weight_matrix) # Shape: (batch_size, seq_len, d_model)\n",
        "        V = torch.matmul(values, self.value_weight_matrix) # Shape: (batch_size, seq_len, d_model)\n",
        "\n",
        "        # Compute Attention Scores\n",
        "        attention_scores = torch.matmul(Q, K.transpose(-2, -1))\n",
        "\n",
        "        # Scaled Dot Product Attention\n",
        "        scaled_attention_scores = attention_scores / torch.sqrt(torch.tensor(self.d_model, dtype=torch.float32))\n",
        "\n",
        "        # Softmax Attention\n",
        "        attention_probability_distribution = F.softmax(scaled_attention_scores, dim=-1)\n",
        "\n",
        "        # Compute Output\n",
        "        attention_output = torch.matmul(attention_probability_distribution, V)\n",
        "\n",
        "        # Return probability distribution and output matrix\n",
        "        return attention_probability_distribution, attention_output\n",
        "\n"
      ],
      "metadata": {
        "id": "B28zUdw5JYVr"
      },
      "execution_count": 9,
      "outputs": []
    }
  ]
}