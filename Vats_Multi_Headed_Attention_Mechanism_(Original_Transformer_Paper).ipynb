{
  "nbformat": 4,
  "nbformat_minor": 0,
  "metadata": {
    "colab": {
      "provenance": [],
      "authorship_tag": "ABX9TyNruMiooE6sdrp2mmPG2uvB",
      "include_colab_link": true
    },
    "kernelspec": {
      "name": "python3",
      "display_name": "Python 3"
    },
    "language_info": {
      "name": "python"
    }
  },
  "cells": [
    {
      "cell_type": "markdown",
      "metadata": {
        "id": "view-in-github",
        "colab_type": "text"
      },
      "source": [
        "<a href=\"https://colab.research.google.com/github/S-VATS31/Deep_Learning_Models/blob/main/Vats_Multi_Headed_Attention_Mechanism_(Original_Transformer_Paper).ipynb\" target=\"_parent\"><img src=\"https://colab.research.google.com/assets/colab-badge.svg\" alt=\"Open In Colab\"/></a>"
      ]
    },
    {
      "cell_type": "markdown",
      "source": [
        "# **Import Libraries**"
      ],
      "metadata": {
        "id": "gJZu9bVNTsQA"
      }
    },
    {
      "cell_type": "code",
      "execution_count": 27,
      "metadata": {
        "id": "KjSYzUsnYJcR"
      },
      "outputs": [],
      "source": [
        "import math\n",
        "import torch\n",
        "import torch.nn.functional as F"
      ]
    },
    {
      "cell_type": "markdown",
      "source": [
        "# **Multi Headed Attention Based on Original Transformer**"
      ],
      "metadata": {
        "id": "te0u5pi0Tydp"
      }
    },
    {
      "cell_type": "code",
      "source": [
        "class MultiHeadAttention(torch.nn.Module):\n",
        "    def __init__(self, sequence_length, batch_size, d_k, num_heads):\n",
        "        super(MultiHeadAttention, self).__init__()\n",
        "        \"\"\"\n",
        "        Initialize Multi-Headed Attention mechanism\n",
        "\n",
        "        Args:\n",
        "            sequence_length (int): Number of tokens in the input sequence\n",
        "            batch_size (int): Number of examples being passed in forward pass\n",
        "            d_k (int): Dimensionality of key vectors\n",
        "            num_heads (int): Number of attention heads\n",
        "        \"\"\"\n",
        "        self.sequence_length = sequence_length\n",
        "        self.batch_size = batch_size\n",
        "        self.d_k = d_k\n",
        "        self.num_heads = num_heads\n",
        "        self.head_dimension = d_k // num_heads # Tensor requires integers\n",
        "        assert d_k % num_heads == 0, \"d_k must be divisible by number of heads\"\n",
        "\n",
        "        # Trainable 2D Weight Matrices with Xavier Initialization\n",
        "        self.W_Q = torch.nn.Parameter(torch.randn(d_k, d_k) / math.sqrt(d_k))\n",
        "        self.W_K = torch.nn.Parameter(torch.randn(d_k, d_k) / math.sqrt(d_k))\n",
        "        self.W_V = torch.nn.Parameter(torch.randn(d_k, d_k) / math.sqrt(d_k))\n",
        "        self.W_O = torch.nn.Parameter(torch.randn(d_k, d_k) / math.sqrt(d_k))\n",
        "\n",
        "    def forward(self, transformer_input, mask=None):\n",
        "        \"\"\"\n",
        "        Forward Pass\n",
        "\n",
        "        Args:\n",
        "            transformer_input (tensor): Tensor being inputted into transformer (shape: [sequence_length, batch_size, d_k])\n",
        "            mask (tensor): Padding masking, ensures all sequences in a batch are same length (shape: [batch_size, sequence_length])\n",
        "\n",
        "        Returns:\n",
        "            (final_output, attention_weights) (tuple): Returns probability distribution via softmax and embdedded sequence of tokens,\n",
        "             transformed by Multi-Headed Attention Mechanism\n",
        "        \"\"\"\n",
        "        # Permute input: [sequence_length, batch_size, d_k] -> [batch_size, sequence_length, d_k]\n",
        "        input_reshaped = transformer_input.permute(1, 0, 2) # [batch_size, sequence_length, d_k]\n",
        "\n",
        "        # Apply linear projections\n",
        "        Q = input_reshaped @ self.W_Q # [batch_size, sequence_length, d_k]\n",
        "        K = input_reshaped @ self.W_K\n",
        "        V = input_reshaped @ self.W_V\n",
        "\n",
        "        # Reshape for Multi-Head Attention: [batch_size, num_heads, sequence_length, head_dimension]\n",
        "        Q = Q.view(self.batch_size, self.sequence_length, self.num_heads, self.head_dimension).transpose(1, 2)\n",
        "        K = K.view(self.batch_size, self.sequence_length, self.num_heads, self.head_dimension).transpose(1, 2)\n",
        "        V = V.view(self.batch_size, self.sequence_length, self.num_heads, self.head_dimension).transpose(1, 2)\n",
        "\n",
        "        # Scaled Dot-Product Attention\n",
        "        attention_scores = Q @ K.transpose(-2, -1) # [batch_size, num_heads, sequence_length, sequence_length]\n",
        "        attention_scores = attention_scores / math.sqrt(self.head_dimension)\n",
        "        # Set up Padding Masking\n",
        "        if mask is not None:\n",
        "            attention_scores = torch.where(mask == 0, float('-inf'), attention_scores)\n",
        "        attention_weights = F.softmax(attention_scores, dim=-1)\n",
        "        attention_output = attention_weights @ V # [batch_size, num_heads, sequence_length, head_dimension]\n",
        "\n",
        "        # Concatenate Attention Output Across All Heads\n",
        "        attention_output = attention_output.transpose(1, 2).contiguous().view(self.batch_size, self.sequence_length, self.d_k)\n",
        "\n",
        "        # Final Linear Projection\n",
        "        attention_output_projection = attention_output @ self.W_O # [batch_size, sequence_length, d_k]\n",
        "\n",
        "        # Permute back to original shape format: [sequence_length, batch_size, d_k]\n",
        "        final_output = attention_output_projection.permute(1, 0, 2)\n",
        "\n",
        "        return final_output, attention_weights\n",
        "\n",
        "# Hyperparameters\n",
        "sequence_length = 10\n",
        "batch_size = 32\n",
        "d_k = 512\n",
        "num_heads = 8\n",
        "\n",
        "# Initialize the Multi-Head Attention layer\n",
        "MHA = MultiHeadAttention(sequence_length, batch_size, d_k, num_heads)\n",
        "\n",
        "# Create random transformer input (3D Tensor: [sequence_length, batch_size, d_k])\n",
        "transformer_input = torch.randn(sequence_length, batch_size, d_k)\n",
        "\n",
        "# Forward pass\n",
        "output, attention_weights = MHA(transformer_input)\n",
        "\n",
        "print(\"Input shape:\", transformer_input.shape)\n",
        "print(\"Output shape:\", output.shape)\n",
        "print(\"Attention weights shape:\", attention_weights.shape)\n"
      ],
      "metadata": {
        "colab": {
          "base_uri": "https://localhost:8080/"
        },
        "id": "kXSTEDYsZCPB",
        "outputId": "f788db87-9912-4b7d-b47f-71cc80dedf8c"
      },
      "execution_count": 28,
      "outputs": [
        {
          "output_type": "stream",
          "name": "stdout",
          "text": [
            "Input shape: torch.Size([10, 32, 512])\n",
            "Output shape: torch.Size([10, 32, 512])\n",
            "Attention weights shape: torch.Size([32, 8, 10, 10])\n"
          ]
        }
      ]
    }
  ]
}