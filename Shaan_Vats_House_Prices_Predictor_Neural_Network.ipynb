{
  "nbformat": 4,
  "nbformat_minor": 0,
  "metadata": {
    "colab": {
      "provenance": [],
      "machine_shape": "hm",
      "authorship_tag": "ABX9TyPTOBoiyiJi+Ar/pxOMg+La",
      "include_colab_link": true
    },
    "kernelspec": {
      "name": "python3",
      "display_name": "Python 3"
    },
    "language_info": {
      "name": "python"
    }
  },
  "cells": [
    {
      "cell_type": "markdown",
      "metadata": {
        "id": "view-in-github",
        "colab_type": "text"
      },
      "source": [
        "<a href=\"https://colab.research.google.com/github/S-VATS31/Deep_Learning_Models/blob/main/Shaan_Vats_House_Prices_Predictor_Neural_Network.ipynb\" target=\"_parent\"><img src=\"https://colab.research.google.com/assets/colab-badge.svg\" alt=\"Open In Colab\"/></a>"
      ]
    },
    {
      "cell_type": "markdown",
      "source": [
        "# **Import Necessary Libraries & Set up CUDA/CPU**"
      ],
      "metadata": {
        "id": "vaM8CdHho4lD"
      }
    },
    {
      "cell_type": "code",
      "execution_count": 1,
      "metadata": {
        "id": "Ax2PtANRRmbE"
      },
      "outputs": [],
      "source": [
        "import torch\n",
        "import numpy as np\n",
        "import pandas as pd\n",
        "import torch.nn as nn\n",
        "import torch.optim as optim\n",
        "import torch.nn.init as init\n",
        "import matplotlib.pyplot as plt\n",
        "from sklearn.preprocessing import MinMaxScaler\n",
        "from torch.utils.data import DataLoader, Dataset\n",
        "from sklearn.model_selection import train_test_split\n",
        "from sklearn.datasets import fetch_california_housing\n",
        "from sklearn.metrics import mean_absolute_error, mean_squared_error, r2_score\n",
        "device = torch.device(\"cuda\" if torch.cuda.is_available() else \"cpu\")\n"
      ]
    },
    {
      "cell_type": "markdown",
      "source": [
        "# **Create a Neural Network Class and Initialize Parameters**"
      ],
      "metadata": {
        "id": "iC6U01BcpADb"
      }
    },
    {
      "cell_type": "code",
      "source": [
        "class HousePricesNN(nn.Module):\n",
        "    def __init__(self, input_size, hidden_layer1, hidden_layer2, hidden_layer3):\n",
        "        super(HousePricesNN, self).__init__()\n",
        "\n",
        "        # First Layer (Input Layer)\n",
        "        self.layer1 = nn.Linear(input_size, hidden_layer1)\n",
        "        self.relu1 = nn.LeakyReLU(0.1)\n",
        "        self.dropout1 = nn.Dropout(p=0.5)\n",
        "\n",
        "        # Second Layer (1st Hidden Layer)\n",
        "        self.layer2 = nn.Linear(hidden_layer1, hidden_layer2)\n",
        "        self.relu2 = nn.LeakyReLU(0.1)\n",
        "        self.dropout2 = nn.Dropout(p=0.4)\n",
        "\n",
        "        # Third Layer (2nd Hidden Layer)\n",
        "        self.layer3 = nn.Linear(hidden_layer2, hidden_layer3)\n",
        "        self.relu3 = nn.LeakyReLU(0.1)\n",
        "        self.dropout3 = nn.Dropout(p=0.3)\n",
        "\n",
        "        # Fourth Layer (Output Layer)\n",
        "        self.layer4 = nn.Linear(hidden_layer3, 1)\n",
        "\n",
        "        # Initialize the weight parameter\n",
        "        self.apply(self.init_weights_kaiming)\n",
        "\n",
        "    def init_weights_kaiming(self, layer):\n",
        "    # Checks if the layer is Linear (dense)\n",
        "        if isinstance(layer, nn.Linear):\n",
        "            init.kaiming_uniform_(layer.weight, nonlinearity='leaky_relu')\n",
        "\n",
        "        # Checks if the layer has a bias term\n",
        "            if hasattr(layer, 'bias') and layer.bias is not None:\n",
        "                nn.init.zeros_(layer.bias) # Initialize bias at 0\n",
        "\n",
        "    def forward(self, x):\n",
        "        x = self.relu1(self.layer1(x)) # Input Layer -> 1st Hidden Layer\n",
        "        x= self.dropout1(x)\n",
        "        x = self.relu2(self.layer2(x)) # 1st Hidden Layer -> 2nd Hidden Layer\n",
        "        x= self.dropout2(x)\n",
        "        x = self.relu3(self.layer3(x)) # 2nd Hidden Layer -> 3rd Hidden Layer\n",
        "        x= self.dropout3(x)\n",
        "        x = self.layer4(x) # 3rd Hidden Layer -> Output Layer\n",
        "\n",
        "        return x\n"
      ],
      "metadata": {
        "id": "YjcByFPsSBTW"
      },
      "execution_count": 2,
      "outputs": []
    },
    {
      "cell_type": "markdown",
      "source": [
        "# **Dataset Class**"
      ],
      "metadata": {
        "id": "R7yU3q2WYxeO"
      }
    },
    {
      "cell_type": "code",
      "source": [
        "class CaliforniaHousingDataset(Dataset):\n",
        "    def __init__(self, X, y):\n",
        "        self.X = torch.tensor(X, dtype=torch.float32)\n",
        "        self.y = torch.tensor(y, dtype=torch.float32)\n",
        "\n",
        "    # Return the number of datapoints\n",
        "    def __len__(self):\n",
        "        return len(self.X)\n",
        "\n",
        "    # Return individual instances\n",
        "    def __getitem__(self, index):\n",
        "        return self.X[index], self.y[index]"
      ],
      "metadata": {
        "id": "V6IWBLLCYyUY"
      },
      "execution_count": 3,
      "outputs": []
    },
    {
      "cell_type": "markdown",
      "source": [
        "# **Data Preprocessing**"
      ],
      "metadata": {
        "id": "EGQv6NyOpRFR"
      }
    },
    {
      "cell_type": "code",
      "source": [
        "# Fetch data\n",
        "california_housing = fetch_california_housing()\n",
        "\n",
        "# Raw data -> DataFrame\n",
        "df = pd.DataFrame(california_housing.data, columns=california_housing.feature_names)\n",
        "\n",
        "# Add target variable\n",
        "df['Price'] = california_housing.target\n",
        "\n",
        "# Define X and y\n",
        "X = df.drop('Price', axis=1).to_numpy()\n",
        "y = df['Price'].to_numpy()\n",
        "\n",
        "# Scale X and y\n",
        "scaler_X = MinMaxScaler()\n",
        "scaler_y = MinMaxScaler()\n",
        "X_normalized = scaler_X.fit_transform(X)\n",
        "y_normalized = scaler_y.fit_transform(y.reshape(-1, 1)).flatten()\n",
        "\n",
        "# Split into training/testing data\n",
        "X_train, X_test, y_train, y_test = train_test_split(X_normalized, y_normalized, test_size=0.2, random_state=42)\n",
        "\n",
        "# Create instances of training and testing dataset\n",
        "train_dataset = CaliforniaHousingDataset(X_train, y_train)\n",
        "test_dataset = CaliforniaHousingDataset(X_test, y_test)\n",
        "\n",
        "# Create instances of training and test dataloaders\n",
        "train_loader = DataLoader(train_dataset, batch_size=96, shuffle=True)\n",
        "test_loader = DataLoader(test_dataset, batch_size=96, shuffle=True)\n"
      ],
      "metadata": {
        "id": "C_-qprwAc_5K"
      },
      "execution_count": 4,
      "outputs": []
    },
    {
      "cell_type": "markdown",
      "source": [
        "# **Creating Instances**"
      ],
      "metadata": {
        "id": "KamwvblJfsXq"
      }
    },
    {
      "cell_type": "code",
      "source": [
        "torch.manual_seed(42)\n",
        "\n",
        "# Create an instance of the model\n",
        "house_prices_nn = HousePricesNN(input_size=8, hidden_layer1=64, hidden_layer2=32, hidden_layer3=16)\n",
        "\n",
        "# Set up the criterion\n",
        "criterion = nn.MSELoss()\n",
        "\n",
        "# Set up optimization algorithm\n",
        "optimizer = optim.Adam(house_prices_nn.parameters(), lr=0.0011)\n"
      ],
      "metadata": {
        "id": "6xu8YKR4frZt"
      },
      "execution_count": 5,
      "outputs": []
    },
    {
      "cell_type": "markdown",
      "source": [
        "# **Model Training & Evaluation Process**"
      ],
      "metadata": {
        "id": "Qghj-10hul3b"
      }
    },
    {
      "cell_type": "code",
      "source": [
        "# Function to train and evaluate the model\n",
        "def train_eval_neural_net(house_prices_nn, criterion, optimizer, train_loader, test_loader, epochs=10000):\n",
        "\n",
        "    # Make sure house_prices_nn is on the same device\n",
        "    house_prices_nn.to(device)\n",
        "\n",
        "    # Set the model to training mode\n",
        "    house_prices_nn.train()\n",
        "\n",
        "    # Empty lists to store average losses for plotting\n",
        "    train_loss_list = []\n",
        "    test_loss_list = []\n",
        "\n",
        "    # Global loop\n",
        "    for epoch in range(epochs):\n",
        "\n",
        "        # Initialize total train loss\n",
        "        total_train_loss = 0.0\n",
        "\n",
        "        # Training-Specific Loop\n",
        "        for X_train, y_train in train_loader:\n",
        "            X_train, y_train = X_train.to(device), y_train.to(device)\n",
        "\n",
        "            # Turns y_train into a column vector\n",
        "            y_train = y_train.view(-1, 1)\n",
        "\n",
        "            optimizer.zero_grad() # Zero the gradients\n",
        "            y_pred = house_prices_nn(X_train) # Forward pass\n",
        "            loss = criterion(y_pred, y_train) # Measure loss function\n",
        "            loss.backward() # Perform backpropagation\n",
        "            optimizer.step() # Update weights\n",
        "\n",
        "            total_train_loss += loss.item() # item(): tensor -> scalar\n",
        "\n",
        "        # Calculate, store, & print training loss\n",
        "        avg_train_loss = total_train_loss / len(train_loader)\n",
        "        train_loss_list.append(avg_train_loss)\n",
        "\n",
        "        # Set the model to evaluation mode\n",
        "        house_prices_nn.eval()\n",
        "\n",
        "        # Initialize total test loss\n",
        "        total_test_loss = 0.0\n",
        "\n",
        "        with torch.no_grad(): # Turn off gradient calculation for evaluation mode\n",
        "\n",
        "            # Testing-Specific Loop\n",
        "            for X_test, y_test in test_loader:\n",
        "                X_test, y_test = X_test.to(device), y_test.to(device)\n",
        "\n",
        "                # Turns y_train into a column vector\n",
        "                y_test = y_test.view(-1, 1)\n",
        "\n",
        "                y_pred = house_prices_nn(X_test) # Forward pass\n",
        "                loss = criterion(y_pred, y_test) # Measure loss function\n",
        "                total_test_loss += loss.item() # item(): tensor -> scalar\n",
        "\n",
        "        # Calculate, store, & print testing loss\n",
        "        avg_test_loss = total_test_loss / len(test_loader)\n",
        "        test_loss_list.append(avg_test_loss)\n",
        "\n",
        "        # Print losses every 100 epochs\n",
        "        if (epoch + 1) % 100 == 0 or epoch == 0:\n",
        "            print(f\"Epoch: {epoch+1}/{epochs} - Training Loss: {avg_train_loss:.4f}, Testing Loss: {avg_test_loss:.4f}\")\n",
        "\n",
        "    # Plot the training loss over epochs\n",
        "    plt.plot(range(epochs), train_loss_list, label='Training Loss', color='orange')\n",
        "    plt.plot(range(epochs), test_loss_list, label='Testing Loss', color='blue')\n",
        "    plt.xlabel('Epoch')\n",
        "    plt.ylabel('Loss')\n",
        "    plt.title('Training Loss vs. Testing Loss over Epochs')\n",
        "    plt.legend()\n",
        "    plt.show()\n",
        "\n",
        "# Call training and evaluation function\n",
        "train_eval_neural_net(house_prices_nn, criterion, optimizer, train_loader, test_loader, epochs=1500)\n"
      ],
      "metadata": {
        "id": "bJObaxdhulX6",
        "colab": {
          "base_uri": "https://localhost:8080/",
          "height": 758
        },
        "outputId": "a26ae4fd-b930-440b-fd9b-1574917db73f"
      },
      "execution_count": 6,
      "outputs": [
        {
          "output_type": "stream",
          "name": "stdout",
          "text": [
            "Epoch: 1/1500 - Training Loss: 0.1430, Testing Loss: 0.0819\n",
            "Epoch: 100/1500 - Training Loss: 0.0124, Testing Loss: 0.0134\n",
            "Epoch: 200/1500 - Training Loss: 0.0107, Testing Loss: 0.0120\n",
            "Epoch: 300/1500 - Training Loss: 0.0102, Testing Loss: 0.0116\n",
            "Epoch: 400/1500 - Training Loss: 0.0097, Testing Loss: 0.0115\n",
            "Epoch: 500/1500 - Training Loss: 0.0094, Testing Loss: 0.0113\n",
            "Epoch: 600/1500 - Training Loss: 0.0091, Testing Loss: 0.0111\n",
            "Epoch: 700/1500 - Training Loss: 0.0088, Testing Loss: 0.0109\n",
            "Epoch: 800/1500 - Training Loss: 0.0085, Testing Loss: 0.0115\n",
            "Epoch: 900/1500 - Training Loss: 0.0084, Testing Loss: 0.0110\n",
            "Epoch: 1000/1500 - Training Loss: 0.0082, Testing Loss: 0.0113\n",
            "Epoch: 1100/1500 - Training Loss: 0.0082, Testing Loss: 0.0113\n",
            "Epoch: 1200/1500 - Training Loss: 0.0079, Testing Loss: 0.0112\n",
            "Epoch: 1300/1500 - Training Loss: 0.0077, Testing Loss: 0.0117\n",
            "Epoch: 1400/1500 - Training Loss: 0.0077, Testing Loss: 0.0118\n",
            "Epoch: 1500/1500 - Training Loss: 0.0076, Testing Loss: 0.0111\n"
          ]
        },
        {
          "output_type": "display_data",
          "data": {
            "text/plain": [
              "<Figure size 640x480 with 1 Axes>"
            ],
            "image/png": "[encoded data removed]"
          },
          "metadata": {}
        }
      ]
    },
    {
      "cell_type": "markdown",
      "source": [
        "# **Making Predictions with Trained Model**"
      ],
      "metadata": {
        "id": "BM8t0SaxdvFh"
      }
    },
    {
      "cell_type": "code",
      "source": [
        "# Create a function to evaluate the model on testing data\n",
        "def eval_test_data(house_prices_nn, test_loader, device):\n",
        "\n",
        "    # Set the model to evaluation mode\n",
        "    house_prices_nn.eval()\n",
        "\n",
        "    # Make sure house_prices_nn is on the same device\n",
        "    house_prices_nn.to(device)\n",
        "\n",
        "    # Empty lists to store predictions and true values\n",
        "    predictions = []\n",
        "    true_values = []\n",
        "\n",
        "    with torch.no_grad(): # Turn off gradient calculation for prediction creation\n",
        "        for X_test, y_test in test_loader:\n",
        "            X_test = X_test.to(device)\n",
        "            y_test = y_test.to(device)\n",
        "            y_pred = house_prices_nn(X_test) # Forward pass\n",
        "\n",
        "            # Remove dimensions\n",
        "            if y_pred.dim() > 1 and y_pred.size(1) == 1:\n",
        "                y_pred = y_pred.squeeze()\n",
        "            if y_test.dim() > 1 and y_test.size(1) == 1:\n",
        "                y_test = y_test.squeeze()\n",
        "\n",
        "            # Convert to numpy arrays and store in CPU\n",
        "            predictions.append(y_pred.cpu().numpy())\n",
        "            true_values.append(y_test.cpu().numpy())\n",
        "\n",
        "    # Concatenate all batches in a large array of values\n",
        "    predictions = np.concatenate(predictions)\n",
        "    true_values = np.concatenate(true_values)\n",
        "\n",
        "    return predictions, true_values # Return both predictions and true values\n",
        "\n",
        "def evaluate_metrics(predictions, true_values):\n",
        "    # Calculate MAE, RMSE, and R^2\n",
        "    mae = mean_absolute_error(true_values, predictions)\n",
        "    rmse = np.sqrt(mean_squared_error(true_values, predictions))\n",
        "    r2 = r2_score(true_values, predictions)\n",
        "\n",
        "    return mae, rmse, r2\n",
        "\n",
        "# Call evaluation function\n",
        "predicted_prices, actual_prices = eval_test_data(house_prices_nn, test_loader, device)\n",
        "\n",
        "# Calculate metrics function\n",
        "mae, rmse, r2 = evaluate_metrics(predicted_prices, actual_prices)\n",
        "\n",
        "# Print predicted vs actual prices for 50 houses\n",
        "print(\"Predicted vs Actual Housing Prices:\")\n",
        "for i in range(min(50, len(predicted_prices))):\n",
        "    print(f\"Predicted: ${predicted_prices[i] * 100000:.2f}, Actual: ${actual_prices[i] * 100000:.2f}\")\n",
        "\n",
        "print(f\"Mean Absolute Error (MAE): {mae * 100:.2f}%\")\n",
        "print(f\"Root Mean Squared Error (RMSE): {rmse:.4f}\")\n",
        "print(f\"R²: {r2:.4f}\")\n"
      ],
      "metadata": {
        "id": "CROhuncRelE9",
        "colab": {
          "base_uri": "https://localhost:8080/"
        },
        "outputId": "6a7cf33e-1f5d-45ee-ede4-f4622b1f4f63"
      },
      "execution_count": 7,
      "outputs": [
        {
          "output_type": "stream",
          "name": "stdout",
          "text": [
            "Predicted vs Actual Housing Prices:\n",
            "Predicted: $39358.86, Actual: $25257.83\n",
            "Predicted: $43431.48, Actual: $38103.14\n",
            "Predicted: $30951.23, Actual: $29752.66\n",
            "Predicted: $37338.89, Actual: $28866.07\n",
            "Predicted: $32501.49, Actual: $24330.00\n",
            "Predicted: $8489.84, Actual: $10495.01\n",
            "Predicted: $57763.25, Actual: $46948.46\n",
            "Predicted: $39046.71, Actual: $42494.88\n",
            "Predicted: $37653.12, Actual: $33299.04\n",
            "Predicted: $11988.25, Actual: $10350.68\n",
            "Predicted: $38240.50, Actual: $46824.76\n",
            "Predicted: $19416.95, Actual: $12659.95\n",
            "Predicted: $41090.75, Actual: $37773.25\n",
            "Predicted: $24085.03, Actual: $29649.57\n",
            "Predicted: $39166.71, Actual: $42969.10\n",
            "Predicted: $36401.09, Actual: $33195.95\n",
            "Predicted: $24223.06, Actual: $25031.03\n",
            "Predicted: $27205.21, Actual: $25257.83\n",
            "Predicted: $49204.11, Actual: $48453.61\n",
            "Predicted: $47649.86, Actual: $43525.80\n",
            "Predicted: $48240.25, Actual: $41917.56\n",
            "Predicted: $78633.87, Actual: $100000.00\n",
            "Predicted: $21759.84, Actual: $14618.70\n",
            "Predicted: $44491.42, Actual: $44103.12\n",
            "Predicted: $29303.64, Actual: $27773.29\n",
            "Predicted: $34639.03, Actual: $34804.19\n",
            "Predicted: $32404.53, Actual: $45010.33\n",
            "Predicted: $22318.76, Actual: $25257.83\n",
            "Predicted: $38417.81, Actual: $30268.12\n",
            "Predicted: $48494.79, Actual: $36103.15\n",
            "Predicted: $19765.99, Actual: $25257.83\n",
            "Predicted: $81275.77, Actual: $100000.00\n",
            "Predicted: $49619.77, Actual: $46433.00\n",
            "Predicted: $47448.99, Actual: $35484.60\n",
            "Predicted: $14264.46, Actual: $9752.74\n",
            "Predicted: $52687.97, Actual: $62185.52\n",
            "Predicted: $17156.37, Actual: $13154.79\n",
            "Predicted: $10734.46, Actual: $10969.23\n",
            "Predicted: $8534.85, Actual: $9010.48\n",
            "Predicted: $30069.37, Actual: $57381.41\n",
            "Predicted: $49336.40, Actual: $59154.60\n",
            "Predicted: $97619.50, Actual: $88041.08\n",
            "Predicted: $56062.24, Actual: $51463.91\n",
            "Predicted: $12088.27, Actual: $22309.39\n",
            "Predicted: $14684.15, Actual: $20268.16\n",
            "Predicted: $86394.49, Actual: $78288.55\n",
            "Predicted: $43921.84, Actual: $41814.47\n",
            "Predicted: $67752.57, Actual: $67195.80\n",
            "Predicted: $99781.90, Actual: $86948.30\n",
            "Predicted: $60653.41, Actual: $61237.07\n",
            "Mean Absolute Error (MAE): 7.01%\n",
            "Root Mean Squared Error (RMSE): 0.1056\n",
            "R²: 0.8000\n"
          ]
        }
      ]
    }
  ]
}