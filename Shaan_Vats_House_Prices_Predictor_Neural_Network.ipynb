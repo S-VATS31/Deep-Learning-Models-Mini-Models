{
  "nbformat": 4,
  "nbformat_minor": 0,
  "metadata": {
    "colab": {
      "provenance": [],
      "machine_shape": "hm",
      "gpuType": "A100",
      "authorship_tag": "ABX9TyP9AdfaUGioY/KxZCtjK90i",
      "include_colab_link": true
    },
    "kernelspec": {
      "name": "python3",
      "display_name": "Python 3"
    },
    "language_info": {
      "name": "python"
    },
    "accelerator": "GPU"
  },
  "cells": [
    {
      "cell_type": "markdown",
      "metadata": {
        "id": "view-in-github",
        "colab_type": "text"
      },
      "source": [
        "<a href=\"https://colab.research.google.com/github/S-VATS31/Deep-Learning-Models-Mini-Models/blob/main/Shaan_Vats_House_Prices_Predictor_Neural_Network.ipynb\" target=\"_parent\"><img src=\"https://colab.research.google.com/assets/colab-badge.svg\" alt=\"Open In Colab\"/></a>"
      ]
    },
    {
      "cell_type": "markdown",
      "source": [
        "# **Import Necessary Libraries & Set up CUDA/CPU**"
      ],
      "metadata": {
        "id": "vaM8CdHho4lD"
      }
    },
    {
      "cell_type": "code",
      "execution_count": 1,
      "metadata": {
        "id": "Ax2PtANRRmbE"
      },
      "outputs": [],
      "source": [
        "import torch\n",
        "import numpy as np\n",
        "import pandas as pd\n",
        "import torch.nn as nn\n",
        "import torch.optim as optim\n",
        "import torch.nn.init as init\n",
        "import matplotlib.pyplot as plt\n",
        "from sklearn.preprocessing import MinMaxScaler\n",
        "from torch.utils.data import DataLoader, Dataset\n",
        "from sklearn.model_selection import train_test_split\n",
        "from sklearn.datasets import fetch_california_housing\n",
        "from sklearn.metrics import mean_absolute_error, mean_squared_error, r2_score\n",
        "device = torch.device(\"cuda\" if torch.cuda.is_available() else \"cpu\")\n"
      ]
    },
    {
      "cell_type": "markdown",
      "source": [
        "# **Create a Neural Network Class and Initialize Parameters**"
      ],
      "metadata": {
        "id": "iC6U01BcpADb"
      }
    },
    {
      "cell_type": "code",
      "source": [
        "class HousePricesNN(nn.Module):\n",
        "    def __init__(self, input_size, hidden_layer1, hidden_layer2, hidden_layer3):\n",
        "        super(HousePricesNN, self).__init__()\n",
        "\n",
        "        # First Layer (Input Layer)\n",
        "        self.layer1 = nn.Linear(input_size, hidden_layer1)\n",
        "        self.relu1 = nn.LeakyReLU(0.1)\n",
        "        self.dropout1 = nn.Dropout(p=0.5)\n",
        "\n",
        "        # Second Layer (1st Hidden Layer)\n",
        "        self.layer2 = nn.Linear(hidden_layer1, hidden_layer2)\n",
        "        self.relu2 = nn.LeakyReLU(0.1)\n",
        "        self.dropout2 = nn.Dropout(p=0.4)\n",
        "\n",
        "        # Third Layer (2nd Hidden Layer)\n",
        "        self.layer3 = nn.Linear(hidden_layer2, hidden_layer3)\n",
        "        self.relu3 = nn.LeakyReLU(0.1)\n",
        "        self.dropout3 = nn.Dropout(p=0.3)\n",
        "\n",
        "        # Fourth Layer (Output Layer)\n",
        "        self.layer4 = nn.Linear(hidden_layer3, 1)\n",
        "\n",
        "        # Initialize the weight parameter\n",
        "        self.apply(self.init_weights_kaiming)\n",
        "\n",
        "    def init_weights_kaiming(self, layer):\n",
        "    # Checks if the layer is Linear (dense)\n",
        "        if isinstance(layer, nn.Linear):\n",
        "            init.kaiming_uniform_(layer.weight, nonlinearity='leaky_relu')\n",
        "\n",
        "        # Checks if the layer has a bias term\n",
        "            if hasattr(layer, 'bias') and layer.bias is not None:\n",
        "                nn.init.zeros_(layer.bias)  # Initialize bias at 0\n",
        "\n",
        "    def forward(self, x):\n",
        "        x = self.relu1(self.layer1(x)) # Input Layer -> 1st Hidden Layer\n",
        "        x= self.dropout1(x)\n",
        "        x = self.relu2(self.layer2(x)) # 1st Hidden Layer -> 2nd Hidden Layer\n",
        "        x= self.dropout2(x)\n",
        "        x = self.relu3(self.layer3(x)) # 2nd Hidden Layer -> 3rd Hidden Layer\n",
        "        x= self.dropout3(x)\n",
        "        x = self.layer4(x) # 3rd Hidden Layer -> Output Layer\n",
        "\n",
        "        return x\n"
      ],
      "metadata": {
        "id": "YjcByFPsSBTW"
      },
      "execution_count": 2,
      "outputs": []
    },
    {
      "cell_type": "markdown",
      "source": [
        "# **Dataset Class**"
      ],
      "metadata": {
        "id": "R7yU3q2WYxeO"
      }
    },
    {
      "cell_type": "code",
      "source": [
        "class CaliforniaHousingDataset(Dataset):\n",
        "    def __init__(self, X, y):\n",
        "        self.X = torch.tensor(X, dtype=torch.float32)\n",
        "        self.y = torch.tensor(y, dtype=torch.float32)\n",
        "\n",
        "    # Return the number of datapoints\n",
        "    def __len__(self):\n",
        "        return len(self.X)\n",
        "\n",
        "    # Return individual instances\n",
        "    def __getitem__(self, index):\n",
        "        return self.X[index], self.y[index]"
      ],
      "metadata": {
        "id": "V6IWBLLCYyUY"
      },
      "execution_count": 3,
      "outputs": []
    },
    {
      "cell_type": "markdown",
      "source": [
        "# **Data Preprocessing**"
      ],
      "metadata": {
        "id": "EGQv6NyOpRFR"
      }
    },
    {
      "cell_type": "code",
      "source": [
        "# Fetch data\n",
        "california_housing = fetch_california_housing()\n",
        "\n",
        "# Raw data -> DataFrame\n",
        "df = pd.DataFrame(california_housing.data, columns=california_housing.feature_names)\n",
        "\n",
        "# Add target variable\n",
        "df['Price'] = california_housing.target\n",
        "\n",
        "# Define X and y\n",
        "X = df.drop('Price', axis=1).to_numpy()\n",
        "y = df['Price'].to_numpy()\n",
        "\n",
        "# Scale X and y\n",
        "scaler_X = MinMaxScaler()\n",
        "scaler_y = MinMaxScaler()\n",
        "X_normalized = scaler_X.fit_transform(X)\n",
        "y_normalized = scaler_y.fit_transform(y.reshape(-1, 1)).flatten()\n",
        "\n",
        "# Split into training/testing data\n",
        "X_train, X_test, y_train, y_test = train_test_split(X_normalized, y_normalized, test_size=0.2, random_state=42)\n",
        "\n",
        "# Create instances of training and testing dataset\n",
        "train_dataset = CaliforniaHousingDataset(X_train, y_train)\n",
        "test_dataset = CaliforniaHousingDataset(X_test, y_test)\n",
        "\n",
        "# Create instances of training and test dataloaders\n",
        "train_loader = DataLoader(train_dataset, batch_size=96, shuffle=True)\n",
        "test_loader = DataLoader(test_dataset, batch_size=96, shuffle=True)\n"
      ],
      "metadata": {
        "id": "C_-qprwAc_5K"
      },
      "execution_count": 4,
      "outputs": []
    },
    {
      "cell_type": "markdown",
      "source": [
        "# **Creating Instances**"
      ],
      "metadata": {
        "id": "KamwvblJfsXq"
      }
    },
    {
      "cell_type": "code",
      "source": [
        "torch.manual_seed(42)\n",
        "\n",
        "# Create an instance of the model\n",
        "house_prices_nn = HousePricesNN(input_size=8, hidden_layer1=64, hidden_layer2=32, hidden_layer3=16)\n",
        "\n",
        "# Set up the criterion\n",
        "criterion = nn.MSELoss()\n",
        "\n",
        "# Set up optimization algorithm\n",
        "optimizer = optim.Adam(house_prices_nn.parameters(), lr=0.0011)\n"
      ],
      "metadata": {
        "id": "6xu8YKR4frZt"
      },
      "execution_count": 5,
      "outputs": []
    },
    {
      "cell_type": "markdown",
      "source": [
        "# **Model Training & Evaluation Process**"
      ],
      "metadata": {
        "id": "Qghj-10hul3b"
      }
    },
    {
      "cell_type": "code",
      "source": [
        "# Function to train and evaluate the model\n",
        "def train_eval_neural_net(house_prices_nn, criterion, optimizer, train_loader, test_loader, epochs):\n",
        "\n",
        "    # Make sure house_prices_nn is on the same device\n",
        "    house_prices_nn.to(device)\n",
        "\n",
        "    # Set the model to training mode\n",
        "    house_prices_nn.train()\n",
        "\n",
        "    # Empty lists to store average losses for plotting\n",
        "    train_loss_list = []\n",
        "    test_loss_list = []\n",
        "\n",
        "    # Global loop\n",
        "    for epoch in range(epochs):\n",
        "\n",
        "        # Initialize total train loss\n",
        "        total_train_loss = 0.0\n",
        "\n",
        "        # Training-Specific Loop\n",
        "        for X_train, y_train in train_loader:\n",
        "            X_train, y_train = X_train.to(device), y_train.to(device)\n",
        "\n",
        "            # Turns y_train into a column vector\n",
        "            y_train = y_train.view(-1, 1)\n",
        "\n",
        "            optimizer.zero_grad() # Zero the gradients\n",
        "            y_pred = house_prices_nn(X_train) # Forward pass\n",
        "            loss = criterion(y_pred, y_train) # Measure loss function\n",
        "            loss.backward() # Perform backpropagation\n",
        "            optimizer.step() # Update weights\n",
        "\n",
        "            total_train_loss += loss.item() # item(): tensor -> scalar\n",
        "\n",
        "        # Calculate, store, & print training loss\n",
        "        avg_train_loss = total_train_loss / len(train_loader)\n",
        "        train_loss_list.append(avg_train_loss)\n",
        "\n",
        "        # Set the model to evaluation mode\n",
        "        house_prices_nn.eval()\n",
        "\n",
        "        # Initialize total test loss\n",
        "        total_test_loss = 0.0\n",
        "\n",
        "        with torch.no_grad(): # Turn off gradient calculation for evaluation mode\n",
        "\n",
        "            # Testing-Specific Loop\n",
        "            for X_test, y_test in test_loader:\n",
        "                X_test, y_test = X_test.to(device), y_test.to(device)\n",
        "\n",
        "                # Turns y_train into a column vector\n",
        "                y_test = y_test.view(-1, 1)\n",
        "\n",
        "                y_pred = house_prices_nn(X_test) # Forward pass\n",
        "                loss = criterion(y_pred, y_test) # Measure loss function\n",
        "                total_test_loss += loss.item() # item(): tensor -> scalar\n",
        "\n",
        "        # Calculate, store, & print testing loss\n",
        "        avg_test_loss = total_test_loss / len(test_loader)\n",
        "        test_loss_list.append(avg_test_loss)\n",
        "\n",
        "        # Print losses every 100 epochs\n",
        "        if (epoch + 1) % 100 == 0 or epoch == 0:\n",
        "            print(f\"Epoch: {epoch+1}/{epochs} - Training Loss: {avg_train_loss:.4f}, Testing Loss: {avg_test_loss:.4f}\")\n",
        "\n",
        "    # Plot the training loss over epochs\n",
        "    plt.plot(range(epochs), train_loss_list, label='Training Loss', color='orange')\n",
        "    plt.plot(range(epochs), test_loss_list, label='Testing Loss', color='blue')\n",
        "    plt.xlabel('Epoch')\n",
        "    plt.ylabel('Loss')\n",
        "    plt.title('Training Loss vs. Testing Loss over Epochs')\n",
        "    plt.legend()\n",
        "    plt.show()\n",
        "\n",
        "# Call training and evaluation function\n",
        "train_eval_neural_net(house_prices_nn, criterion, optimizer, train_loader, test_loader, epochs=1500)\n"
      ],
      "metadata": {
        "id": "bJObaxdhulX6",
        "colab": {
          "base_uri": "https://localhost:8080/",
          "height": 758
        },
        "outputId": "86c1e7c9-be47-40a7-ed78-88fcb4303d6a"
      },
      "execution_count": 6,
      "outputs": [
        {
          "output_type": "stream",
          "name": "stdout",
          "text": [
            "Epoch: 1/1500 - Training Loss: 0.1439, Testing Loss: 0.0797\n",
            "Epoch: 100/1500 - Training Loss: 0.0128, Testing Loss: 0.0146\n",
            "Epoch: 200/1500 - Training Loss: 0.0110, Testing Loss: 0.0122\n",
            "Epoch: 300/1500 - Training Loss: 0.0102, Testing Loss: 0.0116\n",
            "Epoch: 400/1500 - Training Loss: 0.0102, Testing Loss: 0.0127\n",
            "Epoch: 500/1500 - Training Loss: 0.0095, Testing Loss: 0.0112\n",
            "Epoch: 600/1500 - Training Loss: 0.0096, Testing Loss: 0.0121\n",
            "Epoch: 700/1500 - Training Loss: 0.0088, Testing Loss: 0.0109\n",
            "Epoch: 800/1500 - Training Loss: 0.0089, Testing Loss: 0.0109\n",
            "Epoch: 900/1500 - Training Loss: 0.0085, Testing Loss: 0.0112\n",
            "Epoch: 1000/1500 - Training Loss: 0.0083, Testing Loss: 0.0113\n",
            "Epoch: 1100/1500 - Training Loss: 0.0081, Testing Loss: 0.0113\n",
            "Epoch: 1200/1500 - Training Loss: 0.0083, Testing Loss: 0.0115\n",
            "Epoch: 1300/1500 - Training Loss: 0.0079, Testing Loss: 0.0111\n",
            "Epoch: 1400/1500 - Training Loss: 0.0077, Testing Loss: 0.0111\n",
            "Epoch: 1500/1500 - Training Loss: 0.0076, Testing Loss: 0.0111\n"
          ]
        },
        {
          "output_type": "display_data",
          "data": {
            "text/plain": [
              "<Figure size 640x480 with 1 Axes>"
            ],
            "image/png": "[encoded data removed]"
          },
          "metadata": {}
        }
      ]
    },
    {
      "cell_type": "markdown",
      "source": [
        "# **Making Predictions with Trained Model**"
      ],
      "metadata": {
        "id": "BM8t0SaxdvFh"
      }
    },
    {
      "cell_type": "code",
      "source": [
        "# Create a function to evaluate the model on testing data\n",
        "def eval_test_data(house_prices_nn, test_loader, device):\n",
        "\n",
        "    # Set the model to evaluation mode\n",
        "    house_prices_nn.eval()\n",
        "\n",
        "    # Make sure house_prices_nn is on the same device\n",
        "    house_prices_nn.to(device)\n",
        "\n",
        "    # Empty lists to store predictions and true values\n",
        "    predictions = []\n",
        "    true_values = []\n",
        "\n",
        "    with torch.no_grad(): # Turn off gradient calculation for prediction creation\n",
        "        for X_test, y_test in test_loader:\n",
        "            X_test = X_test.to(device)\n",
        "            y_test = y_test.to(device)\n",
        "            y_pred = house_prices_nn(X_test) # Forward pass\n",
        "\n",
        "            # Remove dimensions\n",
        "            y_pred = y_pred.squeeze()\n",
        "            y_test = y_test.squeeze()\n",
        "\n",
        "            # Convert to numpy arrays and store in CPU\n",
        "            predictions.append(y_pred.cpu().numpy())\n",
        "            true_values.append(y_test.cpu().numpy())\n",
        "\n",
        "    # Concatenate all batches in a large array of values\n",
        "    predictions = np.concatenate(predictions)\n",
        "    true_values = np.concatenate(true_values)\n",
        "\n",
        "    return predictions, true_values  # Return both predictions and true values\n",
        "\n",
        "def evaluate_metrics(predictions, true_values):\n",
        "    # Calculate MAE, RMSE, and R^2\n",
        "    mae = mean_absolute_error(true_values, predictions)\n",
        "    rmse = np.sqrt(mean_squared_error(true_values, predictions))\n",
        "    r2 = r2_score(true_values, predictions)\n",
        "\n",
        "    return mae, rmse, r2\n",
        "\n",
        "# Call evaluation function\n",
        "predicted_prices, actual_prices = eval_test_data(house_prices_nn, test_loader, device)\n",
        "\n",
        "# Calculate metrics function\n",
        "mae, rmse, r2 = evaluate_metrics(predicted_prices, actual_prices)\n",
        "\n",
        "# Print predicted vs actual prices for 50 houses\n",
        "print(\"Predicted vs Actual Housing Prices:\")\n",
        "for i in range(min(50, len(predicted_prices))):\n",
        "    print(f\"Predicted: ${predicted_prices[i] * 100000:.2f}, Actual: ${actual_prices[i] * 100000:.2f}\")\n",
        "\n",
        "print(f\"Mean Absolute Error (MAE): {mae * 100:.2f}%\")\n",
        "print(f\"Root Mean Squared Error (RMSE): {rmse:.4f}\")\n",
        "print(f\"R²: {r2:.4f}\")\n"
      ],
      "metadata": {
        "id": "CROhuncRelE9",
        "colab": {
          "base_uri": "https://localhost:8080/"
        },
        "outputId": "4aace3e2-794e-40f5-d6b7-6cc7988f231c"
      },
      "execution_count": 7,
      "outputs": [
        {
          "output_type": "stream",
          "name": "stdout",
          "text": [
            "Predicted vs Actual Housing Prices:\n",
            "Predicted: $37185.59, Actual: $34804.19\n",
            "Predicted: $76216.89, Actual: $94102.91\n",
            "Predicted: $19467.07, Actual: $19876.41\n",
            "Predicted: $36331.20, Actual: $32185.64\n",
            "Predicted: $6571.63, Actual: $12927.99\n",
            "Predicted: $40742.75, Actual: $48659.80\n",
            "Predicted: $62670.55, Actual: $100000.00\n",
            "Predicted: $80198.98, Actual: $68968.99\n",
            "Predicted: $86818.34, Actual: $100000.00\n",
            "Predicted: $22411.79, Actual: $26000.10\n",
            "Predicted: $67561.72, Actual: $65566.95\n",
            "Predicted: $55666.51, Actual: $53072.16\n",
            "Predicted: $13815.02, Actual: $14948.60\n",
            "Predicted: $31807.42, Actual: $28886.69\n",
            "Predicted: $49658.48, Actual: $62185.52\n",
            "Predicted: $14773.17, Actual: $16371.27\n",
            "Predicted: $48597.84, Actual: $56556.67\n",
            "Predicted: $54206.32, Actual: $54701.01\n",
            "Predicted: $12662.90, Actual: $17072.30\n",
            "Predicted: $43925.98, Actual: $43484.56\n",
            "Predicted: $58729.17, Actual: $71670.02\n",
            "Predicted: $37169.17, Actual: $22165.06\n",
            "Predicted: $33517.18, Actual: $69072.09\n",
            "Predicted: $19306.96, Actual: $20969.19\n",
            "Predicted: $26837.58, Actual: $27938.23\n",
            "Predicted: $55970.95, Actual: $50082.48\n",
            "Predicted: $38544.46, Actual: $48329.91\n",
            "Predicted: $20364.46, Actual: $15938.29\n",
            "Predicted: $23221.54, Actual: $19897.03\n",
            "Predicted: $23167.21, Actual: $23690.83\n",
            "Predicted: $33020.18, Actual: $26515.56\n",
            "Predicted: $31350.71, Actual: $34701.09\n",
            "Predicted: $11634.98, Actual: $41587.66\n",
            "Predicted: $30330.99, Actual: $31360.90\n",
            "Predicted: $41995.91, Actual: $36082.53\n",
            "Predicted: $37200.94, Actual: $30515.54\n",
            "Predicted: $16798.18, Actual: $32350.59\n",
            "Predicted: $30447.36, Actual: $30412.45\n",
            "Predicted: $22044.10, Actual: $17773.33\n",
            "Predicted: $12048.16, Actual: $10969.23\n",
            "Predicted: $32790.88, Actual: $32989.76\n",
            "Predicted: $64423.80, Actual: $53917.51\n",
            "Predicted: $39097.25, Actual: $45979.40\n",
            "Predicted: $46454.73, Actual: $53340.19\n",
            "Predicted: $91516.66, Actual: $100000.00\n",
            "Predicted: $27034.88, Actual: $32659.87\n",
            "Predicted: $32395.10, Actual: $77484.42\n",
            "Predicted: $49272.39, Actual: $44701.05\n",
            "Predicted: $29634.97, Actual: $2742.46\n",
            "Predicted: $47050.77, Actual: $27360.92\n",
            "Mean Absolute Error (MAE): 6.89%\n",
            "Root Mean Squared Error (RMSE): 0.1054\n",
            "R²: 0.8008\n"
          ]
        }
      ]
    }
  ]
}