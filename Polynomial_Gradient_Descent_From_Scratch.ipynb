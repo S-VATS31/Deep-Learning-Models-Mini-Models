{
  "nbformat": 4,
  "nbformat_minor": 0,
  "metadata": {
    "colab": {
      "provenance": [],
      "authorship_tag": "ABX9TyPXv0rSqEjdkdqsmOCOuZmz",
      "include_colab_link": true
    },
    "kernelspec": {
      "name": "python3",
      "display_name": "Python 3"
    },
    "language_info": {
      "name": "python"
    }
  },
  "cells": [
    {
      "cell_type": "markdown",
      "metadata": {
        "id": "view-in-github",
        "colab_type": "text"
      },
      "source": [
        "<a href=\"https://colab.research.google.com/github/S-VATS31/Deep_Learning_Models/blob/main/Polynomial_Gradient_Descent_From_Scratch.ipynb\" target=\"_parent\"><img src=\"https://colab.research.google.com/assets/colab-badge.svg\" alt=\"Open In Colab\"/></a>"
      ]
    },
    {
      "cell_type": "markdown",
      "source": [
        "# **Import NumPy**"
      ],
      "metadata": {
        "id": "3lTFwOC8eYLn"
      }
    },
    {
      "cell_type": "code",
      "execution_count": null,
      "metadata": {
        "id": "_uhpVYHRmZR3"
      },
      "outputs": [],
      "source": [
        "import numpy as np\n"
      ]
    },
    {
      "cell_type": "markdown",
      "source": [
        "# **Create Gradient Descent & Training Loop**"
      ],
      "metadata": {
        "id": "hYEMWSIEeb-l"
      }
    },
    {
      "cell_type": "code",
      "source": [
        "def gradient_descent(X, y, theta_weight, alpha=1e-3, epochs=200, tol=1e-7):\n",
        "    m = len(X)\n",
        "    loss_over_epochs = []\n",
        "    residual_loss = float('inf')\n",
        "\n",
        "    # Training Loop\n",
        "    for epoch in range(epochs):\n",
        "        gradients = (1/m) * X.T @ (X @ theta_weight - y) # Gradient Computation\n",
        "        theta_weight -= alpha * gradients # Gradient Descent Update Rule\n",
        "        cost_func = (1/(2*m)) * np.sum((X @ theta_weight - y) ** 2) # Mean Squared Error Loss Function\n",
        "        loss_over_epochs.append(cost_func) # Plot for Visualization\n",
        "\n",
        "        if (epoch + 1) % 20 == 0 or epoch == 0:\n",
        "            print(f\"Epoch {epoch+1}/{epochs}, Loss: {cost_func:.6f}\")\n",
        "\n",
        "        # Early Stopping\n",
        "        if abs(residual_loss - cost_func) < tol: # Tolerance level\n",
        "            print(f\"Model converged at epoch {epoch+1} with a loss change of {abs(residual_loss - cost_func):.6f}\")\n",
        "            break\n",
        "\n",
        "        residual_loss = cost_func # Update residual loss for next epoch\n",
        "\n",
        "    return theta_weight, loss_over_epochs\n"
      ],
      "metadata": {
        "id": "ceELYcELmiH2"
      },
      "execution_count": null,
      "outputs": []
    },
    {
      "cell_type": "markdown",
      "source": [
        "# **Optimized Weight**"
      ],
      "metadata": {
        "id": "H1PMUw0LehWk"
      }
    },
    {
      "cell_type": "code",
      "source": [
        "m = 100 # Number of examples\n",
        "degree = 3 # Cubic function\n",
        "\n",
        "# Generate random X values\n",
        "X_original = np.random.randn(m, 1)\n",
        "\n",
        "# Create polynomial features including bias term\n",
        "X_poly = np.ones((m, degree + 1)) # First column is bias (only ones)\n",
        "for i in range(1, degree + 1):\n",
        "    X_poly[:, i] = X_original[:, 0] ** i # Polynomial features\n",
        "\n",
        "# Cubic function with noise\n",
        "y = 3 + 5 * X_original + 2 * X_original**2 - X_original**3 + np.random.randn(m, 1)\n",
        "\n",
        "# Initialize parameters based on X shape\n",
        "theta_weight = np.random.randn(degree + 1, 1)\n",
        "\n",
        "optimized_theta_weight, losses = gradient_descent(X_poly, y, theta_weight, alpha=1e-3, epochs=200, tol=1e-7)\n",
        "\n",
        "print(f\"Optimized Weights (θ): \\n{optimized_theta_weight}\")\n"
      ],
      "metadata": {
        "id": "XNvojMXRpfLG",
        "colab": {
          "base_uri": "https://localhost:8080/"
        },
        "outputId": "21012a16-1183-4892-f3c8-7a2bcfe5f29e"
      },
      "execution_count": null,
      "outputs": [
        {
          "output_type": "stream",
          "name": "stdout",
          "text": [
            "Epoch 1/200, Loss: 12.065464\n",
            "Epoch 20/200, Loss: 11.108728\n",
            "Epoch 40/200, Loss: 10.233503\n",
            "Epoch 60/200, Loss: 9.469734\n",
            "Epoch 80/200, Loss: 8.798836\n",
            "Epoch 100/200, Loss: 8.206325\n",
            "Epoch 120/200, Loss: 7.680706\n",
            "Epoch 140/200, Loss: 7.212696\n",
            "Epoch 160/200, Loss: 6.794676\n",
            "Epoch 180/200, Loss: 6.420301\n",
            "Epoch 200/200, Loss: 6.084218\n",
            "Optimized Weights (θ): \n",
            "[[0.71186859]\n",
            " [0.52980498]\n",
            " [1.54347428]\n",
            " [0.17196241]]\n"
          ]
        }
      ]
    }
  ]
}