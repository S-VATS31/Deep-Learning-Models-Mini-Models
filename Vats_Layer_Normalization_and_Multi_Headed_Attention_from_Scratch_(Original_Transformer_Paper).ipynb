{
  "nbformat": 4,
  "nbformat_minor": 0,
  "metadata": {
    "colab": {
      "provenance": [],
      "authorship_tag": "ABX9TyPqtdQh0rYK353kMaKbi8F4",
      "include_colab_link": true
    },
    "kernelspec": {
      "name": "python3",
      "display_name": "Python 3"
    },
    "language_info": {
      "name": "python"
    }
  },
  "cells": [
    {
      "cell_type": "markdown",
      "metadata": {
        "id": "view-in-github",
        "colab_type": "text"
      },
      "source": [
        "<a href=\"https://colab.research.google.com/github/S-VATS31/Deep_Learning_Models/blob/main/Vats_Layer_Normalization_and_Multi_Headed_Attention_from_Scratch_(Original_Transformer_Paper).ipynb\" target=\"_parent\"><img src=\"https://colab.research.google.com/assets/colab-badge.svg\" alt=\"Open In Colab\"/></a>"
      ]
    },
    {
      "cell_type": "markdown",
      "source": [
        "# **Import Libraries**"
      ],
      "metadata": {
        "id": "gJZu9bVNTsQA"
      }
    },
    {
      "cell_type": "code",
      "execution_count": 76,
      "metadata": {
        "id": "KjSYzUsnYJcR"
      },
      "outputs": [],
      "source": [
        "import math\n",
        "import torch\n",
        "import torch.nn.functional as F"
      ]
    },
    {
      "cell_type": "markdown",
      "source": [
        "# **Layer Normalization**"
      ],
      "metadata": {
        "id": "jwu7BDwdlsvO"
      }
    },
    {
      "cell_type": "code",
      "source": [
        "class LayerNorm(torch.nn.Module):\n",
        "    def __init__(self, normalized_shape, gamma, beta, eps=1e-6, dtype=torch.float32):\n",
        "        super(LayerNorm, self).__init__()\n",
        "        \"\"\"\n",
        "        Initialize Layer Normalization.\n",
        "\n",
        "        Args:\n",
        "            gamma (torch.Tensor): Learnable tensor to scale the values after normalization.\n",
        "            beta (torch.Tensor): Learnable bias that is used to give the model non-zero\n",
        "            intercepts that allow the outputs to be shifted.\n",
        "            eps (float): Small constant to avoid division by zero or small values\n",
        "            that lead to numerical instability.\n",
        "            dtype (torch.dtype, Optional): Data type of the Torch.tensors, default: torch.float32.\n",
        "        \"\"\"\n",
        "        self.eps = eps\n",
        "        self.gamma = torch.nn.Parameter(torch.ones(normalized_shape))\n",
        "        self.beta = torch.nn.Parameter(torch.zeros(normalized_shape))\n",
        "\n",
        "    def forward(self, x):\n",
        "        \"\"\"\n",
        "        Layer Normalization Forward Pass\n",
        "\n",
        "        Args:\n",
        "            x (torch.Tensor): Input tensor\n",
        "\n",
        "        Returns:\n",
        "            self.gamma * x_normal + self.beta (torch.Tensor): Normalized and transformed\n",
        "            of the input tensor where gamma and beta are learnable parameters.\n",
        "        \"\"\"\n",
        "\n",
        "        x_mean = torch.mean(x, dim=-1, keepdim=True) # Calculate mean over last dimension in tensor x\n",
        "        x_var = torch.var(x, dim=-1, unbiased=False, keepdim=True) # Calculate variance over last dimension in tensor x\n",
        "        x_normal = (x - x_mean) / torch.sqrt(x_var + self.eps) # Normalized tensor x\n",
        "        return self.gamma * x_normal + self.beta # Normalized and transformed tensor x"
      ],
      "metadata": {
        "id": "xNUdPNJ_lsll"
      },
      "execution_count": 77,
      "outputs": []
    },
    {
      "cell_type": "markdown",
      "source": [
        "# **Multi Headed Attention Based on Original Transformer**"
      ],
      "metadata": {
        "id": "te0u5pi0Tydp"
      }
    },
    {
      "cell_type": "code",
      "source": [
        "class MultiHeadAttention(torch.nn.Module):\n",
        "    def __init__(self, sequence_length, batch_size, d_model, num_heads, dropout=0.1):\n",
        "        super(MultiHeadAttention, self).__init__()\n",
        "        \"\"\"\n",
        "        Initialize Multi-Head Attention\n",
        "\n",
        "        Args:\n",
        "            sequence_length (int): Number of tokens in input sequence.\n",
        "            batch_size (int): Number of examples processed in a single forward pass.\n",
        "            d_model (int): Dimensionality of model's input/output representations.\n",
        "            num_heads (int): Number of attention heads computing in parallel.\n",
        "            dropout (float): Probability of neurons being removed,reduces likelihood of overfitting.\n",
        "        \"\"\"\n",
        "        self.sequence_length = sequence_length\n",
        "        self.batch_size = batch_size\n",
        "        self.d_model = d_model\n",
        "        self.num_heads = num_heads\n",
        "        self.d_k = d_model // num_heads\n",
        "        self.dropout = torch.nn.Dropout(p=dropout)\n",
        "        assert d_model % num_heads == 0, \"d_model must be divisible by num_heads\"\n",
        "\n",
        "        # Projections\n",
        "        self.W_Q = torch.nn.Linear(d_model, d_model)\n",
        "        self.W_K = torch.nn.Linear(d_model, d_model)\n",
        "        self.W_V = torch.nn.Linear(d_model, d_model)\n",
        "        self.W_O = torch.nn.Linear(d_model, d_model)\n",
        "\n",
        "        # Layer Normalization (PreNorm)\n",
        "        self.layer_norm = torch.nn.LayerNorm(d_model)\n",
        "\n",
        "    def forward(self, transformer_input, mask=None):\n",
        "        \"\"\"\n",
        "        Multi-Head Attention Layer Forward Pass\n",
        "\n",
        "        Args:\n",
        "            transformer_input (torch.Tensor): Tensor input into transformer with shape:\n",
        "            [sequence_length, batch_size, d_model].\n",
        "            mask (torch.Tensor, Optional): Tensor used for padding masking with shape:\n",
        "            [batch_size, sequence_length].\n",
        "\n",
        "        Returns:\n",
        "            final_output (torch.Tensor): Output of the Multi-Head Attention layer after\n",
        "            LayerNorm and linear projection: [sequence_length, batch_size, d_model]\n",
        "            attention_weights (torch.Tensor): Probability distribution/attention scores\n",
        "            (softmax scores) calculated per head with shape: [batch_size, num_head, sequence_length, sequence_length]\n",
        "\n",
        "        \"\"\"\n",
        "        # Residual connection\n",
        "        residual = transformer_input\n",
        "\n",
        "        # Layer Normalization (Pre-Norm)\n",
        "        transformer_input = self.layer_norm(transformer_input)\n",
        "\n",
        "        # Permute input to [batch_size, sequence_length, d_model]\n",
        "        input_reshaped = transformer_input.permute(1, 0, 2)\n",
        "\n",
        "        # Learnable Linear Projections\n",
        "        Q = self.W_Q(input_reshaped)\n",
        "        K = self.W_K(input_reshaped)\n",
        "        V = self.W_V(input_reshaped)\n",
        "\n",
        "        # Reshaped Query, Key, & Value vectors\n",
        "        Q = Q.view(self.batch_size, self.sequence_length, self.num_heads, self.d_k).transpose(1, 2)\n",
        "        K = K.view(self.batch_size, self.sequence_length, self.num_heads, self.d_k).transpose(1, 2)\n",
        "        V = V.view(self.batch_size, self.sequence_length, self.num_heads, self.d_k).transpose(1, 2)\n",
        "\n",
        "        # Scaled Dot Product Attention\n",
        "        attention_scores = Q @ K.transpose(-2, -1) / math.sqrt(self.d_k)\n",
        "        # Apply padding masking\n",
        "        if mask is not None:\n",
        "            mask = mask.unsqueeze(1).unsqueeze(2) # [batch_size, 1, 1, sequence_length]\n",
        "            attention_scores = attention_scores.masked_fill(mask, float('-inf'))\n",
        "        attention_weights = F.softmax(attention_scores, dim=-1)\n",
        "        attention_weights = self.dropout(attention_weights)\n",
        "        attention_output = attention_weights @ V\n",
        "\n",
        "        # Concatenate heads and project output\n",
        "        attention_output = attention_output.transpose(1, 2).contiguous().view(self.batch_size, self.sequence_length, self.d_model)\n",
        "        attention_output = self.dropout(attention_output)\n",
        "        attention_output_projection = self.W_O(attention_output)\n",
        "\n",
        "        # Residual connection and permutation to [sequence_length, batch_size, d_model]\n",
        "        final_output = attention_output_projection + residual.permute(1, 0, 2)\n",
        "        final_output = final_output.permute(1, 0, 2)\n",
        "\n",
        "        return final_output, attention_weights\n",
        "\n",
        "\n",
        "# Hyperparameters\n",
        "sequence_length = 20\n",
        "batch_size = 64\n",
        "d_model = 1024\n",
        "num_heads = 16\n",
        "\n",
        "# Initialize the Multi-Head Attention layer\n",
        "MHA = MultiHeadAttention(sequence_length, batch_size, d_model, num_heads)\n",
        "\n",
        "# Random transformer input (3D Tensor: [sequence_length, batch_size, d_model])\n",
        "transformer_input = torch.randn(sequence_length, batch_size, d_model)\n",
        "\n",
        "# Forward pass\n",
        "output, attention_weights = MHA(transformer_input)\n",
        "\n",
        "print(f\"Input shape: {transformer_input.shape}\")\n",
        "print(f\"Output shape: {output.shape}\")\n",
        "print(f\"Attention weights shape:, {attention_weights.shape}\")\n"
      ],
      "metadata": {
        "colab": {
          "base_uri": "https://localhost:8080/"
        },
        "id": "kXSTEDYsZCPB",
        "outputId": "10be69e8-0d33-4106-9787-9241879407d8"
      },
      "execution_count": 78,
      "outputs": [
        {
          "output_type": "stream",
          "name": "stdout",
          "text": [
            "Input shape: torch.Size([20, 64, 1024])\n",
            "Output shape: torch.Size([20, 64, 1024])\n",
            "Attention weights shape:, torch.Size([64, 16, 20, 20])\n"
          ]
        }
      ]
    },
    {
      "cell_type": "markdown",
      "source": [
        "# **Number of Parameters**"
      ],
      "metadata": {
        "id": "G4qFf_2gFBrw"
      }
    },
    {
      "cell_type": "code",
      "source": [
        "# Check total parameters\n",
        "total_params = sum(p.numel() for p in MHA.parameters())\n",
        "print(f\"Total parameters: {total_params}\")\n",
        "\n",
        "# Check trainable parameters\n",
        "trainable_params = sum(p.numel() for p in MHA.parameters() if p.requires_grad)\n",
        "print(f\"Trainable parameters: {trainable_params}\")"
      ],
      "metadata": {
        "colab": {
          "base_uri": "https://localhost:8080/"
        },
        "id": "Je-5n31hE1OI",
        "outputId": "72551bb7-4b09-47dc-f6e0-36912839d66c"
      },
      "execution_count": 79,
      "outputs": [
        {
          "output_type": "stream",
          "name": "stdout",
          "text": [
            "Total parameters: 4200448\n",
            "Trainable parameters: 4200448\n"
          ]
        }
      ]
    }
  ]
}